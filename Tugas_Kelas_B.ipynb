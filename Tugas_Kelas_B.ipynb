{
  "nbformat": 4,
  "nbformat_minor": 0,
  "metadata": {
    "colab": {
      "provenance": [],
      "authorship_tag": "ABX9TyOyox5Wz0gu3zy7xWzk/PiW",
      "include_colab_link": true
    },
    "kernelspec": {
      "name": "python3",
      "display_name": "Python 3"
    },
    "language_info": {
      "name": "python"
    }
  },
  "cells": [
    {
      "cell_type": "markdown",
      "metadata": {
        "id": "view-in-github",
        "colab_type": "text"
      },
      "source": [
        "<a href=\"https://colab.research.google.com/github/lyahmdh/Semester-2/blob/master/Tugas_Kelas_B.ipynb\" target=\"_parent\"><img src=\"https://colab.research.google.com/assets/colab-badge.svg\" alt=\"Open In Colab\"/></a>"
      ]
    },
    {
      "cell_type": "code",
      "execution_count": 24,
      "metadata": {
        "id": "6LbjLiBJeQij",
        "colab": {
          "base_uri": "https://localhost:8080/"
        },
        "outputId": "ab684bfe-2ad8-4ceb-f7ab-c9b5ba121b2a"
      },
      "outputs": [
        {
          "output_type": "stream",
          "name": "stdout",
          "text": [
            "    NIM     X   Y\n",
            "0  3001  86.0  90\n",
            "1  3002  70.0  73\n",
            "2  3003  90.0  73\n",
            "3  3004  76.0  78\n",
            "4  3005  79.0  86\n",
            "5  3006   NaN  84\n",
            "6  3007  76.0  74\n",
            "7  3008  90.0  20\n",
            "8  3009  72.0  80\n",
            "9  3010  86.0  72\n"
          ]
        }
      ],
      "source": [
        "import pandas as pd\n",
        "import numpy as np\n",
        "\n",
        "# pembuatan data\n",
        "data = {\n",
        "    'NIM' : [3001, 3002, 3003, 3004, 3005, 3006, 3007, 3008, 3009, 3010],\n",
        "    'X' : [86, 70, 90, 76, 79, np.nan, 76, 90, 72, 86],\n",
        "    'Y': [90, 73, 73, 78, 86, 84, 74, 20, 80, 72],\n",
        "}\n",
        "\n",
        "df = pd.DataFrame(data)\n",
        "print(df)"
      ]
    },
    {
      "cell_type": "code",
      "source": [
        "# Soal 1 Mengisi nilai Null dengan mean\n",
        "mean_x = round(df['X'].mean(), 2)\n",
        "df['X'].fillna(mean_x, inplace=True)\n",
        "\n",
        "print(df)"
      ],
      "metadata": {
        "colab": {
          "base_uri": "https://localhost:8080/"
        },
        "id": "EJ7Q7J9llcUV",
        "outputId": "3d4e578b-f3b0-49fc-ac9e-c4e267c2abf0"
      },
      "execution_count": 25,
      "outputs": [
        {
          "output_type": "stream",
          "name": "stdout",
          "text": [
            "    NIM      X   Y\n",
            "0  3001  86.00  90\n",
            "1  3002  70.00  73\n",
            "2  3003  90.00  73\n",
            "3  3004  76.00  78\n",
            "4  3005  79.00  86\n",
            "5  3006  80.56  84\n",
            "6  3007  76.00  74\n",
            "7  3008  90.00  20\n",
            "8  3009  72.00  80\n",
            "9  3010  86.00  72\n"
          ]
        },
        {
          "output_type": "stream",
          "name": "stderr",
          "text": [
            "/tmp/ipython-input-25-42869923.py:3: FutureWarning: A value is trying to be set on a copy of a DataFrame or Series through chained assignment using an inplace method.\n",
            "The behavior will change in pandas 3.0. This inplace method will never work because the intermediate object on which we are setting values always behaves as a copy.\n",
            "\n",
            "For example, when doing 'df[col].method(value, inplace=True)', try using 'df.method({col: value}, inplace=True)' or df[col] = df[col].method(value) instead, to perform the operation inplace on the original object.\n",
            "\n",
            "\n",
            "  df['X'].fillna(mean_x, inplace=True)\n"
          ]
        }
      ]
    },
    {
      "cell_type": "code",
      "source": [
        "# Soal 2 membuat persamaan regresi linear nya\n",
        "from sklearn.linear_model import LinearRegression\n",
        "\n",
        "x = df[['X']]     # Nilai Probstat\n",
        "y = df['Y']       # Nilai Matdis\n",
        "\n",
        "# Buat model regresi linear\n",
        "model = LinearRegression()\n",
        "model.fit(x, y)\n",
        "\n",
        "# Ambil koefisien dan intercept\n",
        "a = model.coef_[0]       # kemiringan (slope)\n",
        "b = model.intercept_     # intercept\n",
        "\n",
        "# Cetak persamaan regresi\n",
        "print(f\"Persamaan regresi: y = {a:.6f}x + {b:.6f}\")"
      ],
      "metadata": {
        "colab": {
          "base_uri": "https://localhost:8080/"
        },
        "id": "7bps01lxljlq",
        "outputId": "c2b79acf-1662-4846-84f0-134587412dcc"
      },
      "execution_count": 26,
      "outputs": [
        {
          "output_type": "stream",
          "name": "stdout",
          "text": [
            "Persamaan regresi: y = -1.117150x + 162.993105\n"
          ]
        }
      ]
    },
    {
      "cell_type": "code",
      "source": [
        "# Soal 3 memperhalus outlier dengan persamaan regresi yang sudah ada\n",
        "\n",
        "# Prediksi nilai Y\n",
        "df['Prediksi_Y'] = model.predict(X)\n",
        "\n",
        "# Ganti nilai Y == 20 dengan nilai prediksi\n",
        "df['Y_Diperhalus'] = df.apply(\n",
        "    lambda row: row['Prediksi_Y'] if row['Y'] == 20 else row['Y'], axis=1\n",
        ")\n",
        "\n",
        "# Lihat hasil\n",
        "print(df[['NIM', 'X', 'Y', 'Prediksi_Y', 'Y_Diperhalus']])"
      ],
      "metadata": {
        "colab": {
          "base_uri": "https://localhost:8080/"
        },
        "id": "6N0q_BHknGNB",
        "outputId": "daf96a5f-71bf-4277-d53e-4f8f98f3a3cc"
      },
      "execution_count": 27,
      "outputs": [
        {
          "output_type": "stream",
          "name": "stdout",
          "text": [
            "    NIM      X   Y  Prediksi_Y  Y_Diperhalus\n",
            "0  3001  86.00  90   66.918237     90.000000\n",
            "1  3002  70.00  73   84.792631     73.000000\n",
            "2  3003  90.00  73   62.449639     73.000000\n",
            "3  3004  76.00  78   78.089734     78.000000\n",
            "4  3005  79.00  86   74.738285     86.000000\n",
            "5  3006  80.56  84   73.000497     84.000000\n",
            "6  3007  76.00  74   78.089734     74.000000\n",
            "7  3008  90.00  20   62.449639     62.449639\n",
            "8  3009  72.00  80   82.558332     80.000000\n",
            "9  3010  86.00  72   66.918237     72.000000\n"
          ]
        }
      ]
    },
    {
      "cell_type": "code",
      "source": [
        "# pembuatan data 2\n",
        "data2 = {\n",
        "    'NIM' : [4001, 4002, 4003, 4004, 4005, 4006, 4007, 4008, 4009, 4010, 4011, 4012, 4013, 4014, 4015],\n",
        "    'Nilai_Kalkulus' : [86, 85, 81, 81, 81, 90, 89, 86, -20, 84, 85, 80, 84, 86, 89],\n",
        "}\n",
        "\n",
        "df2 = pd.DataFrame(data2)\n",
        "print(df2)"
      ],
      "metadata": {
        "colab": {
          "base_uri": "https://localhost:8080/"
        },
        "id": "F2asj3JcqTRM",
        "outputId": "88243bba-df6a-4136-a5f3-e98048f2f4a6"
      },
      "execution_count": 28,
      "outputs": [
        {
          "output_type": "stream",
          "name": "stdout",
          "text": [
            "     NIM  Nilai_Kalkulus\n",
            "0   4001              86\n",
            "1   4002              85\n",
            "2   4003              81\n",
            "3   4004              81\n",
            "4   4005              81\n",
            "5   4006              90\n",
            "6   4007              89\n",
            "7   4008              86\n",
            "8   4009             -20\n",
            "9   4010              84\n",
            "10  4011              85\n",
            "11  4012              80\n",
            "12  4013              84\n",
            "13  4014              86\n",
            "14  4015              89\n"
          ]
        }
      ]
    },
    {
      "cell_type": "code",
      "source": [
        "# Soal 4 menentukan nilai Q1, Q2, Q3\n",
        "\n",
        "Q1 = df2['Nilai_Kalkulus'].quantile(0.25)\n",
        "Q2 = df2['Nilai_Kalkulus'].quantile(0.50)\n",
        "Q3 = df2['Nilai_Kalkulus'].quantile(0.75)\n",
        "\n",
        "\n",
        "# Menampilkan hasil\n",
        "print(f\"Q1 = {Q1}\")\n",
        "print(f\"Q2 = {Q2}\")\n",
        "print(f\"Q3 = {Q3}\")"
      ],
      "metadata": {
        "colab": {
          "base_uri": "https://localhost:8080/"
        },
        "id": "EXoDNV7Iq1KX",
        "outputId": "0a106017-6f32-4e1b-c1c3-295298c398cf"
      },
      "execution_count": 30,
      "outputs": [
        {
          "output_type": "stream",
          "name": "stdout",
          "text": [
            "Q1 = 81.0\n",
            "Q2 = 85.0\n",
            "Q3 = 86.0\n"
          ]
        }
      ]
    },
    {
      "cell_type": "code",
      "source": [
        "# Soal 5 menentukan ambang batas minimum dan maksimum\n",
        "\n",
        "# Hitung IQR\n",
        "IQR = Q3 - Q1\n",
        "\n",
        "# Hitung batas bawah dan batas atas\n",
        "batas_bawah = Q1 - 1.5 * IQR\n",
        "batas_atas = Q3 + 1.5 * IQR\n",
        "\n",
        "# Menampilkan hasil\n",
        "print(f\"IQR: {IQR}\")\n",
        "print(f\"Batas minimum (outlier bawah): {batas_bawah}\")\n",
        "print(f\"Batas maksimum (outlier atas): {batas_atas}\")"
      ],
      "metadata": {
        "colab": {
          "base_uri": "https://localhost:8080/"
        },
        "id": "Fk0YFfhyrAiP",
        "outputId": "d426b169-be9c-48fb-80bb-721177eed234"
      },
      "execution_count": 31,
      "outputs": [
        {
          "output_type": "stream",
          "name": "stdout",
          "text": [
            "IQR: 5.0\n",
            "Batas minimum (outlier bawah): 73.5\n",
            "Batas maksimum (outlier atas): 93.5\n"
          ]
        }
      ]
    },
    {
      "cell_type": "code",
      "source": [
        "# Soal 6 membuat boxplot\n",
        "import seaborn as sns\n",
        "import matplotlib.pyplot as plt\n",
        "\n",
        "# Boxplot\n",
        "plt.figure(figsize=(4, 6))\n",
        "sns.boxplot(y=df2['Nilai_Kalkulus'], color='skyblue')\n",
        "\n",
        "# Garis batas bawah dan atas\n",
        "plt.axhline(batas_bawah, color='red', linestyle='--', label='Batas Bawah')\n",
        "plt.axhline(batas_atas, color='red', linestyle='--', label='Batas Atas')\n",
        "\n",
        "plt.title('Boxplot Vertikal Kolom Y')\n",
        "plt.ylabel('Nilai Y')\n",
        "plt.legend()\n",
        "plt.grid(True)\n",
        "plt.show()"
      ],
      "metadata": {
        "colab": {
          "base_uri": "https://localhost:8080/",
          "height": 526
        },
        "id": "sbbtnzEtrv9R",
        "outputId": "30058746-bc61-4880-cf8f-f0ef1ea74ab3"
      },
      "execution_count": 32,
      "outputs": [
        {
          "output_type": "display_data",
          "data": {
            "text/plain": [
              "<Figure size 400x600 with 1 Axes>"
            ],
            "image/png": "[encoded data removed]"
          },
          "metadata": {}
        }
      ]
    }
  ]
}